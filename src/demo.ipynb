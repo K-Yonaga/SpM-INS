{
 "cells": [
  {
   "cell_type": "markdown",
   "metadata": {},
   "source": [
    "Sparse Modeling for Inelastic Neutron Scattering\n",
    "=======================================================\n",
    "\n",
    "SpM-INS is a tool for analyzing inelastic neutron scattering (INS) specturm. The purpose of this software is to estimate the true spectrum from experimental INS data. The detail algorithm is presented in the below article.\n",
    "\n",
    "* K.Yonaga, S.Hayashida, M.Ohzeki, and T.Masuda, \"Sparse Modeling for Inealstic Neutron Scattering,\" to be appeard.\n",
    "\n",
    "In this notebook, we demonstrate an example of spectrum estimation and hyperparameter tuning with using artificially synthetic data.\n"
   ]
  },
  {
   "cell_type": "code",
   "execution_count": 1,
   "metadata": {},
   "outputs": [],
   "source": [
    "%load_ext autoreload\n",
    "%autoreload 2\n",
    "\n",
    "from parameters import *\n",
    "from spectrum import Spectrum\n",
    "from linear_measurement import *\n",
    "from total_square_variation import *\n",
    "from empirical_parameter import *\n",
    "from admm import ADMMSolver\n",
    "from cross_validation import CrossValidationManager"
   ]
  },
  {
   "cell_type": "markdown",
   "metadata": {},
   "source": [
    "## Define system model\n",
    "\n",
    "Let us consider a $(\\bm{Q}, E)$-space, where $\\bm{Q}$ and $E$ represent a vector of momenta and energy, respectively.The scattering intensity $I(\\bm{Q}, E)$ can be written with a convolution of the resolution function $R(\\bm{Q}, E; \\bm{Q}', E')$ and spectrum $S(\\bm{Q}', E')$ as\n",
    "\n",
    "$$\n",
    "I(\\bm{Q}, E) = \\int d\\bm{Q}' dE' R(\\bm{Q}, E; \\bm{Q}', E') S(\\bm{Q}', E').\n",
    "$$\n",
    "\n",
    "With discretizing momentum and energy space, the above equation can be written as a linear measurement problem $\\boldsymbol{I} = \\boldsymbol{R}\\boldsymbol{S}.$"
   ]
  },
  {
   "cell_type": "markdown",
   "metadata": {},
   "source": [
    "### Set system parameters\n",
    "\n",
    "Common parameters that are used in loading data and estimation.\n",
    "\n",
    "* min_Q  : minimum momentum\n",
    "\n",
    "* max_Q  : maximum momentum\n",
    "\n",
    "* grid_Q : mesh size for momentum\n",
    "\n",
    "* min_E  : mainimum energy\n",
    "\n",
    "* max_E  : maximum energy\n",
    "\n",
    "* grid_Q : mesh size for energy\n",
    "\n",
    "* min_I  : minimum value of intensity\n",
    "\n",
    "* max_I  : maximum value of intensiy  \n",
    "\n",
    "* dQ : resolution for momentum\n",
    "\n",
    "* dE : resolution for energy"
   ]
  },
  {
   "cell_type": "code",
   "execution_count": 2,
   "metadata": {},
   "outputs": [],
   "source": [
    "min_Q = 0.05\n",
    "max_Q = 3.0\n",
    "\n",
    "min_E = 0.05\n",
    "max_E = 1.5\n",
    "min_I = 0.0\n",
    "max_I = 200.0"
   ]
  },
  {
   "cell_type": "markdown",
   "metadata": {},
   "source": [
    "Parameters that are necessary for dfining the system.\n",
    "\n",
    "* grid_Q : mesh size for momentum\n",
    "\n",
    "* grid_Q : mesh size for energy\n",
    "\n",
    "* dQ : resolution for momentum\n",
    "\n",
    "* dE : resolution for energy"
   ]
  },
  {
   "cell_type": "code",
   "execution_count": 3,
   "metadata": {},
   "outputs": [],
   "source": [
    "grid_Q = (max_Q-min_Q) / 30\n",
    "grid_E = (max_E-min_E) / 30\n",
    "\n",
    "dQ = 0.1\n",
    "dE = 0.1\n",
    "zero_padding = False"
   ]
  },
  {
   "cell_type": "markdown",
   "metadata": {},
   "source": [
    "### Load data\n",
    "\n",
    "Load iexy file. This software assumes INS data mapped onto the two-dimensional space. A iexy file includes the below information.\n",
    "\n",
    "* 1st column : Intensity\n",
    "\n",
    "* 2nd column : Error\n",
    "\n",
    "* 3rd column : Momentum (x-axis)\n",
    "\n",
    "* 1st column : Energy (y-axis)"
   ]
  },
  {
   "cell_type": "code",
   "execution_count": 4,
   "metadata": {},
   "outputs": [],
   "source": [
    "file_path = './file/test.iexy'\n",
    "intensity = Spectrum()"
   ]
  },
  {
   "cell_type": "code",
   "execution_count": 5,
   "metadata": {},
   "outputs": [],
   "source": [
    "intensity.read_iexy(\n",
    "    min_Q, \n",
    "    max_Q, \n",
    "    min_E, \n",
    "    max_E,\n",
    "    min_I, \n",
    "    max_I, \n",
    "    file_path)"
   ]
  },
  {
   "cell_type": "markdown",
   "metadata": {},
   "source": [
    "Plot INS data on the $(Q,E)$-space."
   ]
  },
  {
   "cell_type": "code",
   "execution_count": 6,
   "metadata": {},
   "outputs": [
    {
     "data": {
      "image/png": "[encoded data removed]",
      "text/plain": [
       "<Figure size 640x480 with 2 Axes>"
      ]
     },
     "metadata": {},
     "output_type": "display_data"
    }
   ],
   "source": [
    "intensity.plot(blank=True)"
   ]
  },
  {
   "cell_type": "markdown",
   "metadata": {},
   "source": [
    "### Create linear measurement system"
   ]
  },
  {
   "cell_type": "markdown",
   "metadata": {},
   "source": [
    "Set instance for estimated spectrum."
   ]
  },
  {
   "cell_type": "code",
   "execution_count": 7,
   "metadata": {},
   "outputs": [],
   "source": [
    "spectrum = Spectrum()\n",
    "spectrum.set_parameters(min_Q, max_Q, grid_Q, min_E, max_E, grid_E)"
   ]
  },
  {
   "cell_type": "markdown",
   "metadata": {},
   "source": [
    "Set measurement matrix."
   ]
  },
  {
   "cell_type": "code",
   "execution_count": 8,
   "metadata": {},
   "outputs": [],
   "source": [
    "measurement_matrix = get_measurement_matrix(\n",
    "    dQ, dE, grid_Q, grid_E, intensity, spectrum)"
   ]
  },
  {
   "cell_type": "markdown",
   "metadata": {},
   "source": [
    "Set weight given by error in iexy file."
   ]
  },
  {
   "cell_type": "code",
   "execution_count": 9,
   "metadata": {},
   "outputs": [],
   "source": [
    "weight = get_weight(intensity)"
   ]
  },
  {
   "cell_type": "markdown",
   "metadata": {},
   "source": [
    "## Spectrum estimation with $L_1$-TSV \n",
    "\n",
    "To estimate the true spectrum, we employ $L_1$-TSV optimization as\n",
    "$$\n",
    "\\hat{\\bm{S}} = \\underset{\\bm{S}}{\\rm argmin}\\ \\chi^2(\\bm{S}) + \\lambda_l \\|\\bm{S}\\|_1 + \\lambda_{\\rm TSV} \\|\\bm{S}\\|_{\\rm TSV} \\quad\\quad\\quad {\\text s.t.} \\ \\ S_j > 0 \\ \\ (j=1,\\cdots,N).\n",
    "$$.\n",
    "\n",
    "The first term is the weighted-squared error given as\n",
    "\n",
    "$$\n",
    "\\chi^2(\\bm{S}) = \\frac{1}{2}  \\sum_{i=1}^M w_i \\left(I_i - \\sum_{j=1}^N R_{i,j} S_j \\right)^2.\n",
    "$$\n",
    "\n",
    "The second term is the $L_1$ norm that introduces sparsity as\n",
    "\n",
    "$$\n",
    "\\left\\|\\bm{S}\\right\\|_p = \\left( \\sum_k |S_k|^p \\right)^{1/p}.\n",
    "$$\n",
    "\n",
    "The third term represents the total square variation regularization given as\n",
    "\n",
    "$$\n",
    "\\left\\| \\bm{S} \\right\\|_{\\rm TSV} = \\frac{1}{2} \\sum_{j} \\sum_{j'\\in \\partial j} \\left(S_j - S_{j'}\\right)^2,\n",
    "$$\n",
    "\n",
    "where $\\partial j$ represents the index set of pixels adjacent to the $j$-th pixel."
   ]
  },
  {
   "cell_type": "markdown",
   "metadata": {},
   "source": [
    "### Set TSV reguralization"
   ]
  },
  {
   "cell_type": "code",
   "execution_count": 10,
   "metadata": {},
   "outputs": [],
   "source": [
    "tsvQ, tsvE = get_tsv_array(spectrum.size, spectrum.Qsize, spectrum.Esize)"
   ]
  },
  {
   "cell_type": "markdown",
   "metadata": {},
   "source": [
    "### Hyper paramaeters $\\lambda_2$ with empirical strategy\n",
    "\n",
    "We need set the hyperparameters to performe $L_1$-TSV optimization. To avoid underestimating the TSV regularization, we employ an empirical strategy. In our strategy, $\\lambda_{\\rm TSV}$ is given as\n",
    "\n",
    "$$\n",
    "\\lambda^{\\rm Emp}_{\\rm TSV} = \\left\\{ \\max{\\mathcal{R}} \\right\\}^{\\eta},\n",
    "$$\n",
    "\n",
    "where $\\mathcal{R}=\\{ \\sum_{i}w_{i}R_{i,j}R_{i,j'} | 1\\le j,j' \\le N\\}$."
   ]
  },
  {
   "cell_type": "code",
   "execution_count": 11,
   "metadata": {},
   "outputs": [],
   "source": [
    "eta = 0.5\n",
    "l2_emp = get_empirical_tsv_parameter(measurement_matrix, weight, eta=eta)"
   ]
  },
  {
   "cell_type": "markdown",
   "metadata": {},
   "source": [
    "### Run ADMM solver\n",
    "\n",
    "We run ADMM solver for exploring the estimated spectrum $\\bm{S}^*$. "
   ]
  },
  {
   "cell_type": "code",
   "execution_count": 12,
   "metadata": {},
   "outputs": [],
   "source": [
    "admm = ADMMSolver()\n",
    "spectrum.value = admm.fit(\n",
    "    intensity.value,\n",
    "    measurement_matrix, \n",
    "    weight, \n",
    "    tsvQ, \n",
    "    tsvE, \n",
    "    l1=0.01, \n",
    "    l2=l2_emp)"
   ]
  },
  {
   "cell_type": "markdown",
   "metadata": {},
   "source": [
    "Plot estimated result."
   ]
  },
  {
   "cell_type": "code",
   "execution_count": 13,
   "metadata": {},
   "outputs": [
    {
     "data": {
      "image/png": "[encoded data removed]",
      "text/plain": [
       "<Figure size 640x480 with 2 Axes>"
      ]
     },
     "metadata": {},
     "output_type": "display_data"
    }
   ],
   "source": [
    "spectrum.plot(blank=False)"
   ]
  },
  {
   "cell_type": "markdown",
   "metadata": {},
   "source": [
    "## Hyperparameter Tuning with Cross Validation (CV)\n",
    "\n",
    "$L_1$+TSV has two hyperparameters, $\\lambda_l$ and $\\lambda_{\\rm TSV}$, and therefore, we need to tune their values carefully. This software supports three different hyperparameter tuning methods. In this notebook, we perform hyperparameter tuning by setting $\\lambda_l=10^{l_1}$ and $\\lambda_{\\rm TSV}=10^{l_2}$, where $l_1$ and $l_2$ range from $-4$ to $0$ with an increment of $0.25$."
   ]
  },
  {
   "cell_type": "code",
   "execution_count": 14,
   "metadata": {},
   "outputs": [],
   "source": [
    "l1_list = [10.0**i for i in np.arange(-4, 0.25, 0.25)] # \\lambda_1\n",
    "l2_list = [10.0**i for i in np.arange(-4, 0.25, 0.25)] # \\lambda_TSV"
   ]
  },
  {
   "cell_type": "markdown",
   "metadata": {},
   "source": [
    "### $K$-fold CV (KCV)\n",
    "\n",
    "KCV is a well-known hyperparameter tuning method, which is widely used in practical applications. In KCV, the measured data is divided into $K$ subsets. These subsets are randomly selected from the original data, which indicates that each element appears exactly once across all subsets. For each fold, with using the $K-1$ subsets as the training set, we obtain the estimated spectrum and evalute KCV error."
   ]
  },
  {
   "cell_type": "code",
   "execution_count": 15,
   "metadata": {},
   "outputs": [],
   "source": [
    "cv = CrossValidationManager(\n",
    "    intensity.value, \n",
    "    measurement_matrix, \n",
    "    weight, \n",
    "    tsvQ, \n",
    "    tsvE, \n",
    "    solver=ADMMSolver(),\n",
    "    num_folds=10,\n",
    "    num_jobs=-1)"
   ]
  },
  {
   "cell_type": "code",
   "execution_count": 16,
   "metadata": {},
   "outputs": [],
   "source": [
    "cv.run_grid_search(\n",
    "    l1_list, \n",
    "    l2_list)"
   ]
  },
  {
   "cell_type": "markdown",
   "metadata": {},
   "source": [
    "Show the estimated result obtained by KCV."
   ]
  },
  {
   "cell_type": "code",
   "execution_count": 17,
   "metadata": {},
   "outputs": [
    {
     "data": {
      "image/png": "[encoded data removed]",
      "text/plain": [
       "<Figure size 640x480 with 2 Axes>"
      ]
     },
     "metadata": {},
     "output_type": "display_data"
    }
   ],
   "source": [
    "spectrum_cv = Spectrum()\n",
    "spectrum_cv.set_parameters(min_Q, max_Q, grid_Q, min_E, max_E, grid_E)\n",
    "\n",
    "spectrum_cv.value = cv.get_best_solution(selection_mode='Lowest Error')\n",
    "spectrum_cv.plot()"
   ]
  },
  {
   "cell_type": "markdown",
   "metadata": {},
   "source": [
    "### Emp+KCV\n",
    "\n",
    "In Emp+KCV, we employ the empirical hyperparameter for TSV, $\\lambda_{\\rm TSV}^{\\rm Emp}$. We perform KCV for tuning only the $\\lambda_{1}$ value."
   ]
  },
  {
   "cell_type": "code",
   "execution_count": 18,
   "metadata": {},
   "outputs": [],
   "source": [
    "emp_cv = CrossValidationManager(\n",
    "    intensity.value, \n",
    "    measurement_matrix, \n",
    "    weight, \n",
    "    tsvQ, \n",
    "    tsvE, \n",
    "    solver=ADMMSolver(),\n",
    "    num_folds=10,\n",
    "    num_jobs=-1)"
   ]
  },
  {
   "cell_type": "code",
   "execution_count": 19,
   "metadata": {},
   "outputs": [],
   "source": [
    "l2_emp = get_empirical_tsv_parameter(measurement_matrix, weight, eta=0.5)\n",
    "l2_list = [l2_emp]"
   ]
  },
  {
   "cell_type": "code",
   "execution_count": 20,
   "metadata": {},
   "outputs": [],
   "source": [
    "emp_cv.run_grid_search(\n",
    "    l1_list, \n",
    "    l2_list)"
   ]
  },
  {
   "cell_type": "markdown",
   "metadata": {},
   "source": [
    "Show the estimated result obtained by Emp+KCV."
   ]
  },
  {
   "cell_type": "code",
   "execution_count": 21,
   "metadata": {},
   "outputs": [
    {
     "data": {
      "image/png": "[encoded data removed]",
      "text/plain": [
       "<Figure size 640x480 with 2 Axes>"
      ]
     },
     "metadata": {},
     "output_type": "display_data"
    }
   ],
   "source": [
    "spectrum_emp_cv = Spectrum()\n",
    "spectrum_emp_cv.set_parameters(min_Q, max_Q, grid_Q, min_E, max_E, grid_E)\n",
    "\n",
    "spectrum_emp_cv.value = emp_cv.get_best_solution(selection_mode='Lowest Error')\n",
    "spectrum_emp_cv.plot()"
   ]
  },
  {
   "cell_type": "markdown",
   "metadata": {},
   "source": [
    "### Emp+LOOCV\n",
    "\n",
    "In Emp+LOOCV, we employ the approximated LOOCV method proposed by Obuchi and Kabashima. This method significantly accelerate the computation speed in the hyperparameter tuning process."
   ]
  },
  {
   "cell_type": "code",
   "execution_count": 22,
   "metadata": {},
   "outputs": [],
   "source": [
    "emp_loocv = CrossValidationManager(\n",
    "    intensity.value, \n",
    "    measurement_matrix, \n",
    "    weight, \n",
    "    tsvQ, \n",
    "    tsvE, \n",
    "    solver=ADMMSolver())"
   ]
  },
  {
   "cell_type": "code",
   "execution_count": 23,
   "metadata": {},
   "outputs": [],
   "source": [
    "emp_loocv.run_grid_search(\n",
    "    l1_list, \n",
    "    l2_list,\n",
    "    cv_type='LOOCV')"
   ]
  },
  {
   "cell_type": "code",
   "execution_count": 24,
   "metadata": {},
   "outputs": [],
   "source": [
    "l2_emp = get_empirical_tsv_parameter(measurement_matrix, weight, eta=0.5)\n",
    "l2_list = [l2_emp]"
   ]
  },
  {
   "cell_type": "code",
   "execution_count": 25,
   "metadata": {},
   "outputs": [
    {
     "data": {
      "image/png": "[encoded data removed]",
      "text/plain": [
       "<Figure size 640x480 with 2 Axes>"
      ]
     },
     "metadata": {},
     "output_type": "display_data"
    }
   ],
   "source": [
    "spectrum_emp_loocv = Spectrum()\n",
    "spectrum_emp_loocv.set_parameters(min_Q, max_Q, grid_Q, min_E, max_E, grid_E)\n",
    "\n",
    "spectrum_emp_loocv.value = emp_loocv.get_best_solution(selection_mode='Lowest Error')\n",
    "spectrum_emp_loocv.plot()"
   ]
  },
  {
   "cell_type": "code",
   "execution_count": null,
   "metadata": {},
   "outputs": [],
   "source": []
  }
 ],
 "metadata": {
  "kernelspec": {
   "display_name": "base",
   "language": "python",
   "name": "python3"
  },
  "language_info": {
   "codemirror_mode": {
    "name": "ipython",
    "version": 3
   },
   "file_extension": ".py",
   "mimetype": "text/x-python",
   "name": "python",
   "nbconvert_exporter": "python",
   "pygments_lexer": "ipython3",
   "version": "3.11.5"
  }
 },
 "nbformat": 4,
 "nbformat_minor": 4
}
